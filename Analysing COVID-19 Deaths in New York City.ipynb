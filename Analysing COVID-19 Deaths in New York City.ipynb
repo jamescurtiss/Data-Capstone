{
 "cells": [
  {
   "cell_type": "markdown",
   "metadata": {},
   "source": [
    "<div style=\"text-align: center\"><h1>Analysing COVID-19 Deaths in New York City</h1></div>\n",
    "\n",
    "<h3> 1.\tIntroduction</h3>\n",
    "\n",
    "<h4>1.1\tBackground</h4>\n",
    "\n",
    "<div style=\"text-align: justify\">COVID-19 overwhelmed the state of New York, and on Thursday 12th March 2020, a state of emergency would be declared to better manage the pandemic. In recent months, the global lockdown has halted the spread of COVID-19, resulting in a reduced number of new cases and number of deaths related to the virus; the positive test rate in New York City has been reducing and now fluctuates between 1-2%. As the U.S. Government enters the period of reopening New York City, research needs to be undertaken to identify the areas most at risk of further waves of the virus.</div>\n",
    "\n",
    "<h4>1.2\tProblem</h4>\n",
    "\n",
    "<div style=\"text-align: justify\">This study will identify at risk zip code areas in New York City which have a high proportion of venues where social distancing is difficult (i.e. pubs, nightclubs, beauty salons), and therefore could result in transmission of COVID-19.</div>\n",
    "\n",
    "<h4>1.3\tInterest</h4>\n",
    "\n",
    "<div style=\"text-align: justify\">The audience of this analysis will be the U.S. Government and the policy makers of New York City: by clustering the zip codes according to similar types of venues and population density, it will be possible to spot areas more at risk of further infections. As a result, the state decision makers will be more informed about the venues in each area that will have to close if infections begin to rise once more.</div>\n",
    "\n",
    "<h3>2.\tData</h3>\n",
    "\n",
    "<h4>2.1\tData</h4>\n",
    "\n",
    "<div style=\"text-align: justify\"> FourSquare location data will be used to attain the geographical coordinates of the zip codes in New York City and the most common venues in each. Furthermore, the number of deaths in each zip code will be displayed, helping to show what areas have been affected the most severely and the relation between the venues and the number of deaths. Finally, another factor important in the spread of COVID-19 is population density; for each zip code, population density will be included with the venues types in the clustering to avoid densely populated areas skewing the results.</div>\n",
    "\n",
    "<h4>2.2\tData Sources</h4>\n",
    "\n",
    " - FourSquare API: venues of each zip code.\n",
    " - The New York Times: number of deaths in each zip code.\n",
    " - USA.com: population density of each zip code in New York.\n",
    " \n",
    "<h4>2.3\tFeatures</h4>\n",
    "\n",
    " - Population density (/square mile) – this selection may need some cleaning.\n",
    " - Number of deaths per zip code.\n",
    " - Latitude and longitude of each zip code\n",
    " - Venues of each zip code"
   ]
  },
  {
   "cell_type": "code",
   "execution_count": null,
   "metadata": {},
   "outputs": [],
   "source": []
  }
 ],
 "metadata": {
  "kernelspec": {
   "display_name": "Python",
   "language": "python",
   "name": "conda-env-python-py"
  },
  "language_info": {
   "codemirror_mode": {
    "name": "ipython",
    "version": 3
   },
   "file_extension": ".py",
   "mimetype": "text/x-python",
   "name": "python",
   "nbconvert_exporter": "python",
   "pygments_lexer": "ipython3",
   "version": "3.6.11"
  }
 },
 "nbformat": 4,
 "nbformat_minor": 4
}
